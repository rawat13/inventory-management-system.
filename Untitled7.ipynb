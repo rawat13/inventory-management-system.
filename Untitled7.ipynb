{
  "nbformat": 4,
  "nbformat_minor": 0,
  "metadata": {
    "colab": {
      "name": "Untitled7.ipynb",
      "provenance": []
    },
    "kernelspec": {
      "name": "python3",
      "display_name": "Python 3"
    },
    "language_info": {
      "name": "python"
    }
  },
  "cells": [
    {
      "cell_type": "code",
      "metadata": {
        "id": "CWFLOXPZWlrO"
      },
      "source": [
        "import json\n",
        "\n",
        "fd = open(\"record.json\",'r')\n",
        "r = fd.read()\n",
        "fd.close()\n",
        "\n",
        "records = json.loads(r)"
      ],
      "execution_count": 1,
      "outputs": []
    },
    {
      "cell_type": "code",
      "metadata": {
        "colab": {
          "base_uri": "https://localhost:8080/"
        },
        "id": "52hF11PvXKBk",
        "outputId": "eb256a51-f503-4613-e1e1-fababaf11b80"
      },
      "source": [
        "records"
      ],
      "execution_count": 2,
      "outputs": [
        {
          "output_type": "execute_result",
          "data": {
            "text/plain": [
              "{'1001': {'name': 'Choco Cake', 'pr': 100, 'qn': 34},\n",
              " '1002': {'name': 'Milk Cake', 'pr': 800, 'qn': 100},\n",
              " '1003': {'name': 'Drink', 'pr': 85, 'qn': 100},\n",
              " '1004': {'name': 'Candy', 'pr': 5, 'qn': 1000},\n",
              " '1005': {'name': 'Pen', 'pr': 20, 'qn': 100},\n",
              " '1006': {'name': 'Phone', 'pr': 50000, 'qn': 10},\n",
              " '1007': {'name': 'Mic', 'pr': 1500, 'qn': 0},\n",
              " '1008': {'name': 'Case', 'pr': 599, 'qn': 5},\n",
              " '1009': {'name': 'Keyboard', 'pr': 1999, 'qn': 10},\n",
              " '1010': {'name': 'lays', 'pr': 20, 'qn': 50},\n",
              " '1011': {'name': 'Fruit candy', 'pr': 30, 'qn': 40},\n",
              " '1012': {'name': 'Kurkure', 'pr': 20, 'qn': 30},\n",
              " '1013': {'name': 'milk chocolate', 'pr': 100, 'qn': 20},\n",
              " '1014': {'name': 'dark chocolate', 'pr': 100, 'qn': 20},\n",
              " '1015': {'name': 'treat biscuit', 'pr': 10, 'qn': 30},\n",
              " '1016': {'name': 'toffee', 'pr': 5, 'qn': 50},\n",
              " '1017': {'name': 'bikano mixture ', 'pr': 30, 'qn': 40},\n",
              " '1018': {'name': 'Notebook', 'pr': 20, 'qn': 100},\n",
              " '1019': {'name': 'water colours', 'pr': 20, 'qn': 15},\n",
              " '1020': {'name': 'Rice', 'pr': 300, 'qn': 20},\n",
              " '1021': {'name': 'cryons', 'pr': 30, 'qn': 20},\n",
              " '1022': {'name': 'lotte choco pie', 'pr': 10, 'qn': 40},\n",
              " '1023': {'name': 'coca cola', 'pr': 20, 'qn': 20},\n",
              " '1024': {'name': 'pepsi', 'pr': 20, 'qn': 20},\n",
              " '1025': {'name': 'fruiti', 'pr': 20, 'qn': 20},\n",
              " '1026': {'name': 'maza', 'pr': 20, 'qn': 10},\n",
              " '1027': {'name': 'appy fizz', 'pr': 10, 'qn': 30},\n",
              " '1028': {'name': 'bread', 'pr': 15, 'qn': 20},\n",
              " '1029': {'name': 'brown bread', 'pr': 20, 'qn': 10},\n",
              " '1030': {'name': 'bun', 'pr': 10, 'qn': 20},\n",
              " '1031': {'name': 'crockery set', 'pr': 3000, 'qn': 5},\n",
              " '1032': {'name': 'pencils', 'pr': 5, 'qn': 30},\n",
              " '1033': {'name': 'eraser', 'pr': 5, 'qn': 20},\n",
              " '1034': {'name': 'sharpner', 'pr': 5, 'qn': 20},\n",
              " '1035': {'name': 'scale', 'pr': 5, 'qn': 30},\n",
              " '1036': {'name': 'geometry box', 'pr': 100, 'qn': 10},\n",
              " '1037': {'name': 'glitter pen', 'pr': 10, 'qn': 20},\n",
              " '1038': {'name': 'fountain pen', 'pr': 100, 'qn': 5},\n",
              " '1039': {'name': 'colour paper', 'pr': 5, 'qn': 50},\n",
              " '1040': {'name': 'A4 paper', 'pr': 2, 'qn': 100},\n",
              " '1041': {'name': 'folders', 'pr': 20, 'qn': 10},\n",
              " '1042': {'name': 'choco icecream', 'pr': 120, 'qn': 5},\n",
              " '1043': {'name': 'vanilla ice cream', 'pr': 110, 'qn': 6},\n",
              " '1044': {'name': 'black current ice cream', 'pr': 140, 'qn': 5},\n",
              " '1045': {'name': 'mango ice cream', 'pr': 120, 'qn': 3},\n",
              " '1046': {'name': 'parle G', 'pr': 10, 'qn': 40},\n",
              " '1047': {'name': 'shampoo', 'pr': 100, 'qn': 10},\n",
              " '1048': {'name': 'face wash', 'pr': 200, 'qn': 10},\n",
              " '1049': {'name': 'himalaya face cream', 'pr': 240, 'qn': 10},\n",
              " '1050': {'name': 'hair oil', 'pr': 60, 'qn': 10},\n",
              " '1051': {'name': 'lakme lipstick', 'pr': 300, 'qn': 5},\n",
              " '1052': {'name': 'perfume', 'pr': 240, 'qn': 2}}"
            ]
          },
          "metadata": {},
          "execution_count": 2
        }
      ]
    },
    {
      "cell_type": "code",
      "metadata": {
        "id": "M3AarEnIXLmV"
      },
      "source": [
        "sales ={}"
      ],
      "execution_count": 3,
      "outputs": []
    },
    {
      "cell_type": "code",
      "metadata": {
        "colab": {
          "base_uri": "https://localhost:8080/"
        },
        "id": "28k2mn8pXU8m",
        "outputId": "a30af3b4-fea2-4e66-94bb-69d80fcdb4ad"
      },
      "source": [
        "n = 1\n",
        "while(n==1):\n",
        "\n",
        "  ui_prod  = input(\"Enter the product_Id: \")\n",
        "\n",
        "  print(\"Product: \", records[ui_prod]['name'])\n",
        "  print(\"total quantity : \", records[ui_prod]['qn'])\n",
        "  ui_quant = int(input(\"Enter the quantity: \"))\n",
        "\n",
        "  if(ui_quant>records[ui_prod]['qn']):\n",
        "    print(\"this much quantity is not available\")\n",
        "    ui_quant = int(input(\"Enter the quantity: \"))\n",
        "    \n",
        "  print(\"Price: \", records[ui_prod]['pr'])\n",
        "  print(\"Billing Amount: \", records[ui_prod]['pr'] * ui_quant)\n",
        "  records[ui_prod]['qn'] = records[ui_prod]['qn'] - ui_quant\n",
        "  \n",
        "  {(len(sales)+1) :{'prod' : ui_prod,'name':records[ui_prod]['name'] , 'qn' : ui_quant, 'amount': records[ui_prod]['pr'] * ui_quant}}\n",
        "  sales[len(sales)+1]={'prod' : ui_prod,'name':records[ui_prod]['name'] , 'qn' : ui_quant, 'amount': records[ui_prod]['pr'] * ui_quant}\n",
        "\n",
        "  print(\"if you want to continue shopping enter 1 for yes and 0 for no\")\n",
        "  n =int(input())"
      ],
      "execution_count": 6,
      "outputs": [
        {
          "name": "stdout",
          "output_type": "stream",
          "text": [
            "Enter the product_Id: 1028\n",
            "Product:  bread\n",
            "total quantity :  20\n",
            "Enter the quantity: 2\n",
            "Price:  15\n",
            "Billing Amount:  30\n",
            "if you want to continue shopping enter 1 for yes and 0 for no\n",
            "1\n",
            "Enter the product_Id: 1039\n",
            "Product:  colour paper\n",
            "total quantity :  50\n",
            "Enter the quantity: 4\n",
            "Price:  5\n",
            "Billing Amount:  20\n",
            "if you want to continue shopping enter 1 for yes and 0 for no\n",
            "0\n"
          ]
        }
      ]
    },
    {
      "cell_type": "code",
      "metadata": {
        "id": "nv6UNuqyYYWx"
      },
      "source": [
        "js = json.dumps(records)\n",
        "\n",
        "fd = open(\"record.json\",'w')\n",
        "fd.write(js)\n",
        "fd.close()"
      ],
      "execution_count": 7,
      "outputs": []
    },
    {
      "cell_type": "code",
      "metadata": {
        "colab": {
          "base_uri": "https://localhost:8080/"
        },
        "id": "5PJxrOonYepB",
        "outputId": "92549a14-35e4-4bb1-a7d9-f9503deb3e19"
      },
      "source": [
        "records"
      ],
      "execution_count": 8,
      "outputs": [
        {
          "output_type": "execute_result",
          "data": {
            "text/plain": [
              "{'1001': {'name': 'Choco Cake', 'pr': 100, 'qn': 34},\n",
              " '1002': {'name': 'Milk Cake', 'pr': 800, 'qn': 100},\n",
              " '1003': {'name': 'Drink', 'pr': 85, 'qn': 100},\n",
              " '1004': {'name': 'Candy', 'pr': 5, 'qn': 1000},\n",
              " '1005': {'name': 'Pen', 'pr': 20, 'qn': 100},\n",
              " '1006': {'name': 'Phone', 'pr': 50000, 'qn': 10},\n",
              " '1007': {'name': 'Mic', 'pr': 1500, 'qn': 0},\n",
              " '1008': {'name': 'Case', 'pr': 599, 'qn': 5},\n",
              " '1009': {'name': 'Keyboard', 'pr': 1999, 'qn': 10},\n",
              " '1010': {'name': 'lays', 'pr': 20, 'qn': 50},\n",
              " '1011': {'name': 'Fruit candy', 'pr': 30, 'qn': 40},\n",
              " '1012': {'name': 'Kurkure', 'pr': 20, 'qn': 30},\n",
              " '1013': {'name': 'milk chocolate', 'pr': 100, 'qn': 20},\n",
              " '1014': {'name': 'dark chocolate', 'pr': 100, 'qn': 19},\n",
              " '1015': {'name': 'treat biscuit', 'pr': 10, 'qn': 30},\n",
              " '1016': {'name': 'toffee', 'pr': 5, 'qn': 50},\n",
              " '1017': {'name': 'bikano mixture ', 'pr': 30, 'qn': 38},\n",
              " '1018': {'name': 'Notebook', 'pr': 20, 'qn': 100},\n",
              " '1019': {'name': 'water colours', 'pr': 20, 'qn': 15},\n",
              " '1020': {'name': 'Rice', 'pr': 300, 'qn': 20},\n",
              " '1021': {'name': 'cryons', 'pr': 30, 'qn': 20},\n",
              " '1022': {'name': 'lotte choco pie', 'pr': 10, 'qn': 36},\n",
              " '1023': {'name': 'coca cola', 'pr': 20, 'qn': 17},\n",
              " '1024': {'name': 'pepsi', 'pr': 20, 'qn': 20},\n",
              " '1025': {'name': 'fruiti', 'pr': 20, 'qn': 20},\n",
              " '1026': {'name': 'maza', 'pr': 20, 'qn': 10},\n",
              " '1027': {'name': 'appy fizz', 'pr': 10, 'qn': 27},\n",
              " '1028': {'name': 'bread', 'pr': 15, 'qn': 18},\n",
              " '1029': {'name': 'brown bread', 'pr': 20, 'qn': 10},\n",
              " '1030': {'name': 'bun', 'pr': 10, 'qn': 20},\n",
              " '1031': {'name': 'crockery set', 'pr': 3000, 'qn': 5},\n",
              " '1032': {'name': 'pencils', 'pr': 5, 'qn': 28},\n",
              " '1033': {'name': 'eraser', 'pr': 5, 'qn': 20},\n",
              " '1034': {'name': 'sharpner', 'pr': 5, 'qn': 20},\n",
              " '1035': {'name': 'scale', 'pr': 5, 'qn': 30},\n",
              " '1036': {'name': 'geometry box', 'pr': 100, 'qn': 9},\n",
              " '1037': {'name': 'glitter pen', 'pr': 10, 'qn': 20},\n",
              " '1038': {'name': 'fountain pen', 'pr': 100, 'qn': 5},\n",
              " '1039': {'name': 'colour paper', 'pr': 5, 'qn': 46},\n",
              " '1040': {'name': 'A4 paper', 'pr': 2, 'qn': 100},\n",
              " '1041': {'name': 'folders', 'pr': 20, 'qn': 10},\n",
              " '1042': {'name': 'choco icecream', 'pr': 120, 'qn': 5},\n",
              " '1043': {'name': 'vanilla ice cream', 'pr': 110, 'qn': 5},\n",
              " '1044': {'name': 'black current ice cream', 'pr': 140, 'qn': 5},\n",
              " '1045': {'name': 'mango ice cream', 'pr': 120, 'qn': 3},\n",
              " '1046': {'name': 'parle G', 'pr': 10, 'qn': 40},\n",
              " '1047': {'name': 'shampoo', 'pr': 100, 'qn': 10},\n",
              " '1048': {'name': 'face wash', 'pr': 200, 'qn': 10},\n",
              " '1049': {'name': 'himalaya face cream', 'pr': 240, 'qn': 9},\n",
              " '1050': {'name': 'hair oil', 'pr': 60, 'qn': 10},\n",
              " '1051': {'name': 'lakme lipstick', 'pr': 300, 'qn': 4},\n",
              " '1052': {'name': 'perfume', 'pr': 240, 'qn': 2}}"
            ]
          },
          "metadata": {},
          "execution_count": 8
        }
      ]
    },
    {
      "cell_type": "code",
      "metadata": {
        "colab": {
          "base_uri": "https://localhost:8080/"
        },
        "id": "5SOMjaUyYqrf",
        "outputId": "75fc34d1-6f3b-46f7-a36b-09f537ecb820"
      },
      "source": [
        "Your_name = input(\"Enter your name :\")\n",
        "phone_no = input(\"Enter your number :\")\n",
        "address = input(\"Enter your address :\")\n",
        "sales[len(sales)+1] ={'Your_name : ':Your_name , 'Phone_no : ': phone_no ,'Address : ':address}"
      ],
      "execution_count": 9,
      "outputs": [
        {
          "name": "stdout",
          "output_type": "stream",
          "text": [
            "Enter your name :Nisha\n",
            "Enter your number :9205464802\n",
            "Enter your address :Laxmi niwas, nainital\n"
          ]
        }
      ]
    },
    {
      "cell_type": "code",
      "metadata": {
        "colab": {
          "base_uri": "https://localhost:8080/"
        },
        "id": "f5A5CAwaZHgw",
        "outputId": "e15a77f6-7afd-48c4-e677-c8ab6fee6ab4"
      },
      "source": [
        "sales"
      ],
      "execution_count": 10,
      "outputs": [
        {
          "output_type": "execute_result",
          "data": {
            "text/plain": [
              "{1: {'amount': 10, 'name': 'pencils', 'prod': '1032', 'qn': 2},\n",
              " 2: {'amount': 60, 'name': 'coca cola', 'prod': '1023', 'qn': 3},\n",
              " 3: {'amount': 300, 'name': 'lakme lipstick', 'prod': '1051', 'qn': 1},\n",
              " 4: {'amount': 110, 'name': 'vanilla ice cream', 'prod': '1043', 'qn': 1},\n",
              " 5: {'amount': 40, 'name': 'lotte choco pie', 'prod': '1022', 'qn': 4},\n",
              " 6: {'amount': 100, 'name': 'dark chocolate', 'prod': '1014', 'qn': 1},\n",
              " 7: {'amount': 100, 'name': 'geometry box', 'prod': '1036', 'qn': 1},\n",
              " 8: {'amount': 60, 'name': 'bikano mixture ', 'prod': '1017', 'qn': 2},\n",
              " 9: {'amount': 30, 'name': 'appy fizz', 'prod': '1027', 'qn': 3},\n",
              " 10: {'amount': 240, 'name': 'himalaya face cream', 'prod': '1049', 'qn': 1},\n",
              " 11: {'amount': 30, 'name': 'bread', 'prod': '1028', 'qn': 2},\n",
              " 12: {'amount': 20, 'name': 'colour paper', 'prod': '1039', 'qn': 4},\n",
              " 13: {'Address : ': 'Laxmi niwas, nainital',\n",
              "  'Phone_no : ': '9205464802',\n",
              "  'Your_name : ': 'Nisha'}}"
            ]
          },
          "metadata": {},
          "execution_count": 10
        }
      ]
    },
    {
      "cell_type": "code",
      "metadata": {
        "id": "yg4SOegdZT0S"
      },
      "source": [
        "sale = json.dumps(sales)"
      ],
      "execution_count": 11,
      "outputs": []
    },
    {
      "cell_type": "code",
      "metadata": {
        "id": "u3WOxFl9ZXbD",
        "outputId": "91c33f0c-5dac-4879-a563-3210db6fad89",
        "colab": {
          "base_uri": "https://localhost:8080/"
        }
      },
      "source": [
        "sales"
      ],
      "execution_count": 12,
      "outputs": [
        {
          "output_type": "execute_result",
          "data": {
            "text/plain": [
              "{1: {'amount': 10, 'name': 'pencils', 'prod': '1032', 'qn': 2},\n",
              " 2: {'amount': 60, 'name': 'coca cola', 'prod': '1023', 'qn': 3},\n",
              " 3: {'amount': 300, 'name': 'lakme lipstick', 'prod': '1051', 'qn': 1},\n",
              " 4: {'amount': 110, 'name': 'vanilla ice cream', 'prod': '1043', 'qn': 1},\n",
              " 5: {'amount': 40, 'name': 'lotte choco pie', 'prod': '1022', 'qn': 4},\n",
              " 6: {'amount': 100, 'name': 'dark chocolate', 'prod': '1014', 'qn': 1},\n",
              " 7: {'amount': 100, 'name': 'geometry box', 'prod': '1036', 'qn': 1},\n",
              " 8: {'amount': 60, 'name': 'bikano mixture ', 'prod': '1017', 'qn': 2},\n",
              " 9: {'amount': 30, 'name': 'appy fizz', 'prod': '1027', 'qn': 3},\n",
              " 10: {'amount': 240, 'name': 'himalaya face cream', 'prod': '1049', 'qn': 1},\n",
              " 11: {'amount': 30, 'name': 'bread', 'prod': '1028', 'qn': 2},\n",
              " 12: {'amount': 20, 'name': 'colour paper', 'prod': '1039', 'qn': 4},\n",
              " 13: {'Address : ': 'Laxmi niwas, nainital',\n",
              "  'Phone_no : ': '9205464802',\n",
              "  'Your_name : ': 'Nisha'}}"
            ]
          },
          "metadata": {},
          "execution_count": 12
        }
      ]
    }
  ]
}