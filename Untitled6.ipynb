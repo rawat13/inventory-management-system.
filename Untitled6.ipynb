{
  "nbformat": 4,
  "nbformat_minor": 0,
  "metadata": {
    "colab": {
      "name": "Untitled6.ipynb",
      "provenance": []
    },
    "kernelspec": {
      "name": "python3",
      "display_name": "Python 3"
    },
    "language_info": {
      "name": "python"
    }
  },
  "cells": [
    {
      "cell_type": "code",
      "metadata": {
        "id": "SIWuDg81Oet3"
      },
      "source": [
        "import json\n",
        "fd = open(\"record.json\",'r')\n",
        "r = fd.read()\n",
        "fd.close()\n",
        "\n",
        "record = json.loads(r)"
      ],
      "execution_count": 1,
      "outputs": []
    },
    {
      "cell_type": "code",
      "metadata": {
        "colab": {
          "base_uri": "https://localhost:8080/"
        },
        "id": "hgPI-Hk1PPmV",
        "outputId": "4d89e515-7d63-4d6f-d390-23d8dd2a4515"
      },
      "source": [
        "record"
      ],
      "execution_count": 55,
      "outputs": [
        {
          "output_type": "execute_result",
          "data": {
            "text/plain": [
              "{'1001': {'name': 'Choco Cake', 'pr': 100, 'qn': 34},\n",
              " '1002': {'name': 'Milk Cake', 'pr': 800, 'qn': 100},\n",
              " '1003': {'name': 'Drink', 'pr': 85, 'qn': 100},\n",
              " '1004': {'name': 'Candy', 'pr': 5, 'qn': 1000},\n",
              " '1005': {'name': 'Pen', 'pr': 20, 'qn': 100},\n",
              " '1006': {'name': 'Phone', 'pr': 50000, 'qn': 10},\n",
              " '1007': {'name': 'Mic', 'pr': 1500, 'qn': 0},\n",
              " '1008': {'name': 'Case', 'pr': 599, 'qn': 5},\n",
              " '1009': {'name': 'Keyboard', 'pr': 1999, 'qn': 10},\n",
              " 1010: {'name': 'lays', 'pr': 20, 'qn': 50},\n",
              " 1011: {'name': 'Fruit candy', 'pr': 30, 'qn': 40},\n",
              " 1012: {'name': 'Kurkure', 'pr': 20, 'qn': 30},\n",
              " 1013: {'name': 'milk chocolate', 'pr': 100, 'qn': 20},\n",
              " 1014: {'name': 'dark chocolate', 'pr': 100, 'qn': 20},\n",
              " 1015: {'name': 'treat biscuit', 'pr': 10, 'qn': 30},\n",
              " 1016: {'name': 'toffee', 'pr': 5, 'qn': 50},\n",
              " 1017: {'name': 'bikano mixture ', 'pr': 30, 'qn': 40},\n",
              " 1018: {'name': 'Notebook', 'pr': 20, 'qn': 100},\n",
              " 1019: {'name': 'water colours', 'pr': 20, 'qn': 15},\n",
              " 1020: {'name': 'Rice', 'pr': 300, 'qn': 20},\n",
              " 1021: {'name': 'cryons', 'pr': 30, 'qn': 20},\n",
              " 1022: {'name': 'lotte choco pie', 'pr': 10, 'qn': 40},\n",
              " 1023: {'name': 'coca cola', 'pr': 20, 'qn': 20},\n",
              " 1024: {'name': 'pepsi', 'pr': 20, 'qn': 20},\n",
              " 1025: {'name': 'fruiti', 'pr': 20, 'qn': 20},\n",
              " 1026: {'name': 'maza', 'pr': 20, 'qn': 10},\n",
              " 1027: {'name': 'appy fizz', 'pr': 10, 'qn': 30},\n",
              " 1028: {'name': 'bread', 'pr': 15, 'qn': 20},\n",
              " 1029: {'name': 'brown bread', 'pr': 20, 'qn': 10},\n",
              " 1030: {'name': 'bun', 'pr': 10, 'qn': 20},\n",
              " 1031: {'name': 'crockery set', 'pr': 3000, 'qn': 5},\n",
              " 1032: {'name': 'pencils', 'pr': 5, 'qn': 30},\n",
              " 1033: {'name': 'eraser', 'pr': 5, 'qn': 20},\n",
              " 1034: {'name': 'sharpner', 'pr': 5, 'qn': 20},\n",
              " 1035: {'name': 'scale', 'pr': 5, 'qn': 30},\n",
              " 1036: {'name': 'geometry box', 'pr': 100, 'qn': 10},\n",
              " 1037: {'name': 'glitter pen', 'pr': 10, 'qn': 20},\n",
              " 1038: {'name': 'fountain pen', 'pr': 100, 'qn': 5},\n",
              " 1039: {'name': 'colour paper', 'pr': 5, 'qn': 50},\n",
              " 1040: {'name': 'A4 paper', 'pr': 2, 'qn': 100},\n",
              " 1041: {'name': 'folders', 'pr': 20, 'qn': 10},\n",
              " 1042: {'name': 'choco icecream', 'pr': 120, 'qn': 5},\n",
              " 1043: {'name': 'vanilla ice cream', 'pr': 110, 'qn': 6},\n",
              " 1044: {'name': 'black current ice cream', 'pr': 140, 'qn': 5},\n",
              " 1045: {'name': 'mango ice cream', 'pr': 120, 'qn': 3},\n",
              " 1046: {'name': 'parle G', 'pr': 10, 'qn': 40},\n",
              " 1047: {'name': 'shampoo', 'pr': 100, 'qn': 10},\n",
              " 1048: {'name': 'face wash', 'pr': 200, 'qn': 10},\n",
              " 1049: {'name': 'himalaya face cream', 'pr': 240, 'qn': 10},\n",
              " 1050: {'name': 'hair oil', 'pr': 60, 'qn': 10},\n",
              " 1051: {'name': 'lakme lipstick', 'pr': 300, 'qn': 5}}"
            ]
          },
          "metadata": {},
          "execution_count": 55
        }
      ]
    },
    {
      "cell_type": "code",
      "metadata": {
        "colab": {
          "base_uri": "https://localhost:8080/"
        },
        "id": "LtuCn9GdPTWD",
        "outputId": "7505ad71-f08c-4cb2-fdeb-442cb9eb88fc"
      },
      "source": [
        "id = int(input(\"Enter product id:\"))\n",
        "if(id < 1009):\n",
        "  print(\"enter correct id\")\n",
        "  id = int(input(\"Enter product id:\"))\n",
        "\n",
        "name = str(input(\"Enter name:\"))\n",
        "\n",
        "pr = int(input(\"Enter price:\"))\n",
        "if(pr<0):\n",
        "  print(\"Enter correct cost\")\n",
        "  pr = int(input(\"Enter price:\"))\n",
        "\n",
        "\n",
        "qn = int(input(\"Enter quantity:\"))\n",
        "if(qn<1):\n",
        "  print(\"Quantity should be greater than 1\")\n",
        "  qn= int(input(\"Enter quantity:\"))\n",
        "\n",
        "record[id] = {'name': name, 'pr': pr, 'qn': qn }"
      ],
      "execution_count": 58,
      "outputs": [
        {
          "name": "stdout",
          "output_type": "stream",
          "text": [
            "Enter product id:1052\n",
            "Enter name:perfume\n",
            "Enter price:240\n",
            "Enter quantity:2\n"
          ]
        }
      ]
    },
    {
      "cell_type": "code",
      "metadata": {
        "colab": {
          "base_uri": "https://localhost:8080/"
        },
        "id": "4fKHEPHnWUoH",
        "outputId": "a8eebd3b-0c53-43ce-bf47-36381db56499"
      },
      "source": [
        "record"
      ],
      "execution_count": 60,
      "outputs": [
        {
          "output_type": "execute_result",
          "data": {
            "text/plain": [
              "{'1001': {'name': 'Choco Cake', 'pr': 100, 'qn': 34},\n",
              " '1002': {'name': 'Milk Cake', 'pr': 800, 'qn': 100},\n",
              " '1003': {'name': 'Drink', 'pr': 85, 'qn': 100},\n",
              " '1004': {'name': 'Candy', 'pr': 5, 'qn': 1000},\n",
              " '1005': {'name': 'Pen', 'pr': 20, 'qn': 100},\n",
              " '1006': {'name': 'Phone', 'pr': 50000, 'qn': 10},\n",
              " '1007': {'name': 'Mic', 'pr': 1500, 'qn': 0},\n",
              " '1008': {'name': 'Case', 'pr': 599, 'qn': 5},\n",
              " '1009': {'name': 'Keyboard', 'pr': 1999, 'qn': 10},\n",
              " 1010: {'name': 'lays', 'pr': 20, 'qn': 50},\n",
              " 1011: {'name': 'Fruit candy', 'pr': 30, 'qn': 40},\n",
              " 1012: {'name': 'Kurkure', 'pr': 20, 'qn': 30},\n",
              " 1013: {'name': 'milk chocolate', 'pr': 100, 'qn': 20},\n",
              " 1014: {'name': 'dark chocolate', 'pr': 100, 'qn': 20},\n",
              " 1015: {'name': 'treat biscuit', 'pr': 10, 'qn': 30},\n",
              " 1016: {'name': 'toffee', 'pr': 5, 'qn': 50},\n",
              " 1017: {'name': 'bikano mixture ', 'pr': 30, 'qn': 40},\n",
              " 1018: {'name': 'Notebook', 'pr': 20, 'qn': 100},\n",
              " 1019: {'name': 'water colours', 'pr': 20, 'qn': 15},\n",
              " 1020: {'name': 'Rice', 'pr': 300, 'qn': 20},\n",
              " 1021: {'name': 'cryons', 'pr': 30, 'qn': 20},\n",
              " 1022: {'name': 'lotte choco pie', 'pr': 10, 'qn': 40},\n",
              " 1023: {'name': 'coca cola', 'pr': 20, 'qn': 20},\n",
              " 1024: {'name': 'pepsi', 'pr': 20, 'qn': 20},\n",
              " 1025: {'name': 'fruiti', 'pr': 20, 'qn': 20},\n",
              " 1026: {'name': 'maza', 'pr': 20, 'qn': 10},\n",
              " 1027: {'name': 'appy fizz', 'pr': 10, 'qn': 30},\n",
              " 1028: {'name': 'bread', 'pr': 15, 'qn': 20},\n",
              " 1029: {'name': 'brown bread', 'pr': 20, 'qn': 10},\n",
              " 1030: {'name': 'bun', 'pr': 10, 'qn': 20},\n",
              " 1031: {'name': 'crockery set', 'pr': 3000, 'qn': 5},\n",
              " 1032: {'name': 'pencils', 'pr': 5, 'qn': 30},\n",
              " 1033: {'name': 'eraser', 'pr': 5, 'qn': 20},\n",
              " 1034: {'name': 'sharpner', 'pr': 5, 'qn': 20},\n",
              " 1035: {'name': 'scale', 'pr': 5, 'qn': 30},\n",
              " 1036: {'name': 'geometry box', 'pr': 100, 'qn': 10},\n",
              " 1037: {'name': 'glitter pen', 'pr': 10, 'qn': 20},\n",
              " 1038: {'name': 'fountain pen', 'pr': 100, 'qn': 5},\n",
              " 1039: {'name': 'colour paper', 'pr': 5, 'qn': 50},\n",
              " 1040: {'name': 'A4 paper', 'pr': 2, 'qn': 100},\n",
              " 1041: {'name': 'folders', 'pr': 20, 'qn': 10},\n",
              " 1042: {'name': 'choco icecream', 'pr': 120, 'qn': 5},\n",
              " 1043: {'name': 'vanilla ice cream', 'pr': 110, 'qn': 6},\n",
              " 1044: {'name': 'black current ice cream', 'pr': 140, 'qn': 5},\n",
              " 1045: {'name': 'mango ice cream', 'pr': 120, 'qn': 3},\n",
              " 1046: {'name': 'parle G', 'pr': 10, 'qn': 40},\n",
              " 1047: {'name': 'shampoo', 'pr': 100, 'qn': 10},\n",
              " 1048: {'name': 'face wash', 'pr': 200, 'qn': 10},\n",
              " 1049: {'name': 'himalaya face cream', 'pr': 240, 'qn': 10},\n",
              " 1050: {'name': 'hair oil', 'pr': 60, 'qn': 10},\n",
              " 1051: {'name': 'lakme lipstick', 'pr': 300, 'qn': 5},\n",
              " 1052: {'name': 'perfume', 'pr': 240, 'qn': 2}}"
            ]
          },
          "metadata": {},
          "execution_count": 60
        }
      ]
    },
    {
      "cell_type": "code",
      "metadata": {
        "id": "DUaSzntMPc9u"
      },
      "source": [
        "js = json.dumps(record)\n",
        "\n",
        "fd = open(\"record.json\",'w')\n",
        "fd.write(js)\n",
        "fd.close()"
      ],
      "execution_count": 59,
      "outputs": []
    }
  ]
}